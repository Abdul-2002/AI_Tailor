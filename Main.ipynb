{
  "cells": [
    {
      "cell_type": "code",
      "execution_count": null,
      "metadata": {},
      "outputs": [],
      "source": [
        "cd D:/Documents/CODING/AI/A.I_tailor"
      ]
    },
    {
      "cell_type": "code",
      "execution_count": null,
      "metadata": {
        "colab": {
          "base_uri": "https://localhost:8080/"
        },
        "id": "BmpEwdOd1G1z",
        "outputId": "9e8b2cd0-4222-40b4-b83b-b99154d33d18"
      },
      "outputs": [],
      "source": [
        "#!git clone https://github.com/facebookresearch/pifuhd"
      ]
    },
    {
      "cell_type": "code",
      "execution_count": null,
      "metadata": {
        "colab": {
          "base_uri": "https://localhost:8080/"
        },
        "id": "UtMjWGNU5STe",
        "outputId": "d1eea227-25e9-4447-ccb4-62470a1f24ea"
      },
      "outputs": [],
      "source": [
        "#!git clone https://github.com/Daniil-Osokin/lightweight-human-pose-estimation.pytorch.git"
      ]
    },
    {
      "cell_type": "code",
      "execution_count": null,
      "metadata": {
        "colab": {
          "base_uri": "https://localhost:8080/"
        },
        "id": "mKxs9675GYa8",
        "outputId": "a459a4d6-ae82-439e-eb15-266ac383e314"
      },
      "outputs": [],
      "source": [
        "#!pip install rembg"
      ]
    },
    {
      "cell_type": "code",
      "execution_count": null,
      "metadata": {
        "colab": {
          "base_uri": "https://localhost:8080/"
        },
        "id": "xvle9T10fB6g",
        "outputId": "bccc1de1-74a8-4008-bf4b-a0862cadd571"
      },
      "outputs": [],
      "source": [
        "cd D:/Documents/CODING/AI/A.I_tailor/pifuhd/sample_images"
      ]
    },
    {
      "cell_type": "code",
      "execution_count": null,
      "metadata": {
        "colab": {
          "base_uri": "https://localhost:8080/",
          "height": 74
        },
        "id": "jaV_7Yi8fM-B",
        "outputId": "fc75d1a7-34d3-4212-fb4b-8238fd842a89"
      },
      "outputs": [],
      "source": [
        "filename0 = 'test.png'"
      ]
    },
    {
      "cell_type": "code",
      "execution_count": null,
      "metadata": {
        "id": "gxR-c8T8F9uV"
      },
      "outputs": [],
      "source": [
        "import rembg\n",
        "file_name = filename0\n",
        "with open(file_name, \"rb\") as input_file, open(f\"output_{file_name}\", \"wb\") as output_file:\n",
        "    img = rembg.remove(input_file.read())\n",
        "    output_file.write(img)"
      ]
    },
    {
      "cell_type": "code",
      "execution_count": null,
      "metadata": {},
      "outputs": [],
      "source": [
        "output_test\n"
      ]
    },
    {
      "cell_type": "code",
      "execution_count": null,
      "metadata": {
        "id": "esvWjR-IRO1w"
      },
      "outputs": [],
      "source": [
        "filename = 'output_%s' % filename0"
      ]
    },
    {
      "cell_type": "code",
      "execution_count": null,
      "metadata": {
        "id": "AEzmmB01SOZp"
      },
      "outputs": [],
      "source": [
        "import os\n",
        "try:\n",
        "  image_path = 'D:/Documents/CODING/AI/A.I_tailor/pifuhd/sample_images/%s' % filename\n",
        "except:\n",
        "  image_path = 'D:/Documents/CODING/AI/A.I_tailor/pifuhd/sample_images/test.png' # example image\n",
        "image_dir = os.path.dirname(image_path)\n",
        "file_name = os.path.splitext(os.path.basename(image_path))[0]\n",
        "# output pathes\n",
        "obj_path = 'D:/Documents/CODING/AI/A.I_tailor/pifuhd/results/pifuhd_final/recon/result_%s_256.obj' % file_name\n",
        "out_img_path = 'D:/Documents/CODING/AI/A.I_tailor/pifuhd/results/pifuhd_final/recon/result_%s_256.png' % file_name\n",
        "video_path = 'D:/Documents/CODING/AI/A.I_tailor/pifuhd/results/pifuhd_final/recon/result_%s_256.mp4' % file_name\n",
        "video_display_path = 'D:/Documents/CODING/AI/A.I_tailor/pifuhd/results/pifuhd_final/result_%s_256_display.mp4' % file_name"
      ]
    },
    {
      "cell_type": "code",
      "execution_count": null,
      "metadata": {
        "colab": {
          "base_uri": "https://localhost:8080/"
        },
        "id": "896EC7iQfXkj",
        "outputId": "94fab65b-b257-4c58-9462-9311e9025678"
      },
      "outputs": [],
      "source": [
        "cd D:/Documents/CODING/AI/A.I_tailor"
      ]
    },
    {
      "cell_type": "code",
      "execution_count": null,
      "metadata": {
        "colab": {
          "base_uri": "https://localhost:8080/"
        },
        "id": "F-vYklhI5dab",
        "outputId": "f8a414c0-79b1-473e-f696-812aa6211488"
      },
      "outputs": [],
      "source": [
        "cd D:/Documents/CODING/AI/A.I_tailor/lightweight-human-pose-estimation.pytorch/"
      ]
    },
    {
      "cell_type": "code",
      "execution_count": null,
      "metadata": {
        "colab": {
          "base_uri": "https://localhost:8080/"
        },
        "id": "dRod9SOu77I6",
        "outputId": "7014ab41-a2e4-4d77-e644-bd5d2c8b9d56"
      },
      "outputs": [],
      "source": [
        "# import requests\n",
        "# url = \"https://download.01.org/opencv/openvino_training_extensions/models/human_pose_estimation/checkpoint_iter_370000.pth\"\n",
        "# output_file = \"checkpoint_iter_370000.pth\"\n",
        "# response = requests.get(url)\n",
        "# if response.status_code == 200:\n",
        "#     with open(output_file, \"wb\") as file:\n",
        "#         file.write(response.content)\n",
        "#     print(f\"Downloaded {output_file}\")\n",
        "# else:\n",
        "#     print(\"Failed to download the file.\")"
      ]
    },
    {
      "cell_type": "code",
      "execution_count": null,
      "metadata": {
        "id": "PdRcDXe38lHB"
      },
      "outputs": [],
      "source": [
        "import torch\n",
        "import cv2\n",
        "import numpy as np\n",
        "from models.with_mobilenet import PoseEstimationWithMobileNet\n",
        "from modules.keypoints import extract_keypoints, group_keypoints\n",
        "from modules.load_state import load_state\n",
        "from modules.pose import Pose, track_poses\n",
        "import demo\n",
        "def get_rect(net, images, height_size):\n",
        "    net = net.eval()\n",
        "    stride = 8\n",
        "    upsample_ratio = 4\n",
        "    num_keypoints = Pose.num_kpts\n",
        "    previous_poses = []\n",
        "    delay = 33\n",
        "    for image in images:\n",
        "        rect_path = image.replace('.%s' % (image.split('.')[-1]), '_rect.txt')\n",
        "        img = cv2.imread(image, cv2.IMREAD_COLOR)\n",
        "        orig_img = img.copy()\n",
        "        orig_img = img.copy()\n",
        "        heatmaps, pafs, scale, pad = demo.infer_fast(net, img, height_size, stride, upsample_ratio, cpu=False)\n",
        "        total_keypoints_num = 0\n",
        "        all_keypoints_by_type = []\n",
        "        for kpt_idx in range(num_keypoints):  # 19th for bg\n",
        "            total_keypoints_num += extract_keypoints(heatmaps[:, :, kpt_idx], all_keypoints_by_type, total_keypoints_num)\n",
        "        pose_entries, all_keypoints = group_keypoints(all_keypoints_by_type, pafs)\n",
        "        for kpt_id in range(all_keypoints.shape[0]):\n",
        "            all_keypoints[kpt_id, 0] = (all_keypoints[kpt_id, 0] * stride / upsample_ratio - pad[1]) / scale\n",
        "            all_keypoints[kpt_id, 1] = (all_keypoints[kpt_id, 1] * stride / upsample_ratio - pad[0]) / scale\n",
        "        current_poses = []\n",
        "        rects = []\n",
        "        for n in range(len(pose_entries)):\n",
        "            if len(pose_entries[n]) == 0:\n",
        "                continue\n",
        "            pose_keypoints = np.ones((num_keypoints, 2), dtype=np.int32) * -1\n",
        "            valid_keypoints = []\n",
        "            for kpt_id in range(num_keypoints):\n",
        "                if pose_entries[n][kpt_id] != -1.0:  # keypoint was found\n",
        "                    pose_keypoints[kpt_id, 0] = int(all_keypoints[int(pose_entries[n][kpt_id]), 0])\n",
        "                    pose_keypoints[kpt_id, 1] = int(all_keypoints[int(pose_entries[n][kpt_id]), 1])\n",
        "                    valid_keypoints.append([pose_keypoints[kpt_id, 0], pose_keypoints[kpt_id, 1]])\n",
        "            valid_keypoints = np.array(valid_keypoints)\n",
        "            if pose_entries[n][10] != -1.0 or pose_entries[n][13] != -1.0:\n",
        "              pmin = valid_keypoints.min(0)\n",
        "              pmax = valid_keypoints.max(0)\n",
        "              center = (0.5 * (pmax[:2] + pmin[:2])).astype(int)\n",
        "              radius = int(0.65 * max(pmax[0]-pmin[0], pmax[1]-pmin[1]))\n",
        "            elif pose_entries[n][10] == -1.0 and pose_entries[n][13] == -1.0 and pose_entries[n][8] != -1.0 and pose_entries[n][11] != -1.0:\n",
        "              # if leg is missing, use pelvis to get cropping\n",
        "              center = (0.5 * (pose_keypoints[8] + pose_keypoints[11])).astype(np.int)\n",
        "              radius = int(1.45*np.sqrt(((center[None,:] - valid_keypoints)**2).sum(1)).max(0))\n",
        "              center[1] += int(0.05*radius)\n",
        "            else:\n",
        "              center = np.array([img.shape[1]//2,img.shape[0]//2])\n",
        "              radius = max(img.shape[1]//2,img.shape[0]//2)\n",
        "            x1 = center[0] - radius\n",
        "            y1 = center[1] - radius\n",
        "            rects.append([x1, y1, 2*radius, 2*radius])\n",
        "        np.savetxt(rect_path, np.array(rects), fmt='%d')"
      ]
    },
    {
      "cell_type": "code",
      "execution_count": null,
      "metadata": {
        "colab": {
          "base_uri": "https://localhost:8080/",
          "height": 333
        },
        "id": "M6cGZD6f6IaY",
        "outputId": "da0cb10d-dedb-4de4-f7ea-93be4968847e"
      },
      "outputs": [],
      "source": [
        "net = PoseEstimationWithMobileNet()\n",
        "checkpoint = torch.load('checkpoint_iter_370000.pth', map_location='cpu')\n",
        "load_state(net, checkpoint)\n",
        "get_rect(net.cuda(), [image_path], 512)"
      ]
    },
    {
      "cell_type": "code",
      "execution_count": null,
      "metadata": {
        "colab": {
          "base_uri": "https://localhost:8080/"
        },
        "id": "UrIcZweSNRFI",
        "outputId": "18c5c8f1-a0ba-4880-d550-536a3f5967b8"
      },
      "outputs": [],
      "source": [
        "cd D:/Documents/CODING/AI/A.I_tailor/pifuhd/"
      ]
    },
    {
      "cell_type": "code",
      "execution_count": null,
      "metadata": {
        "colab": {
          "base_uri": "https://localhost:8080/"
        },
        "id": "k3jjm6HuQRk8",
        "outputId": "e35e52d9-6630-4d0d-8065-63efa84c4841"
      },
      "outputs": [],
      "source": [
        "#import subprocess\n",
        "# Command to execute the shell script using Command Prompt\n",
        "#script_path = \"D:/Documents/CODING/AI/A.I_tailor/pifuhd/scripts/download_trained_model.sh\"\n",
        "#subprocess.run(script_path, shell=True)"
      ]
    },
    {
      "cell_type": "markdown",
      "metadata": {
        "id": "6heKcA-0QEBw"
      },
      "source": [
        "## Run PIFuHD!\n"
      ]
    },
    {
      "cell_type": "code",
      "execution_count": null,
      "metadata": {
        "colab": {
          "base_uri": "https://localhost:8080/"
        },
        "id": "5995t2PnQTmG",
        "outputId": "5da85cea-6ca9-4202-f227-71a0d1a80af8"
      },
      "outputs": [],
      "source": [
        "# Warning: all images with the corresponding rectangle files under -i will be processed.\n",
        "import warnings\n",
        "warnings.filterwarnings(\"ignore\", category=FutureWarning)\n",
        "\n",
        "!python -m apps.simple_test -r 256 --use_rect -i $image_dir\n",
        "# seems that 256 is the maximum resolution that can fit into Google Colab.\n",
        "# If you want to reconstruct a higher-resolution mesh, please try with your own machine."
      ]
    },
    {
      "cell_type": "code",
      "execution_count": null,
      "metadata": {
        "colab": {
          "base_uri": "https://localhost:8080/"
        },
        "id": "LkNGIXg7CISE",
        "outputId": "bdf83134-9514-4f99-fae3-3d3ede34b0d0"
      },
      "outputs": [],
      "source": [
        "cd D:/Documents/CODING/AI/A.I_tailor/pifuhd/results/pifuhd_final/recon"
      ]
    },
    {
      "cell_type": "code",
      "execution_count": null,
      "metadata": {
        "id": "xjL0-aYyH8D-"
      },
      "outputs": [],
      "source": [
        "import trimesh\n",
        "import numpy as np\n",
        "# Load the 3D mesh in OBJ format\n",
        "mesh = trimesh.load('D:/Documents/CODING/AI/A.I_tailor/pifuhd/results/pifuhd_final/recon/result_%s_256.obj' % file_name)\n",
        "vertices = mesh.vertices\n",
        "n_points = 2048  # You can adjust the number of points as needed\n",
        "sampled_indices = np.random.choice(len(vertices), n_points, replace=False)\n",
        "point_cloud = vertices[sampled_indices]\n",
        "x = point_cloud[:, 0]\n",
        "y = point_cloud[:, 1]\n",
        "z = point_cloud[:, 2]\n",
        "point_cloud_ply = trimesh.Trimesh(vertices=point_cloud)\n",
        "point_cloud_ply.export('point_cloud.ply')\n",
        "print(\"Point cloud generated and saved as 'point_cloud.ply'\")\n"
      ]
    }
  ],
  "metadata": {
    "accelerator": "GPU",
    "colab": {
      "provenance": []
    },
    "kernelspec": {
      "display_name": "Python 3",
      "name": "python3"
    },
    "language_info": {
      "codemirror_mode": {
        "name": "ipython",
        "version": 3
      },
      "file_extension": ".py",
      "mimetype": "text/x-python",
      "name": "python",
      "nbconvert_exporter": "python",
      "pygments_lexer": "ipython3",
      "version": "3.11.4"
    }
  },
  "nbformat": 4,
  "nbformat_minor": 0
}
